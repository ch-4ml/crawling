{
 "cells": [
  {
   "cell_type": "code",
   "execution_count": null,
   "metadata": {
    "scrolled": false
   },
   "outputs": [],
   "source": [
    "# KBO 1982~2020 타자 기록\n",
    "from selenium import webdriver\n",
    "from bs4 import BeautifulSoup\n",
    "import pandas as pd\n",
    "\n",
    "# setup Driver | Chrome: 크롬 드라이버를 사용하는 driver 생성\n",
    "driver = webdriver.Chrome('./chromedriver')\n",
    "driver.implicitly_wait(3)\n",
    "\n",
    "result = []\n",
    "\n",
    "for i in range(1982, 2021):  # 시작년도, 종료년도 + 1\n",
    "    # url 접근\n",
    "    driver.get('http://www.statiz.co.kr/stat.php?mid=stat&re=0&ys=' + str(i) + '&ye=' + str(i) + '&se=0&te=&tm=&ty=0&qu=auto&po=0&as=&ae=&hi=&un=&pl=&da=1&o1=WAR_ALL_ADJ&o2=TPA&de=1&lr=0&tr=&cv=&ml=1&sn=500&pa=215&si=&cn=')  # sn: data row 수\n",
    "    html = driver.page_source\n",
    "    soup = BeautifulSoup(html, 'html.parser')\n",
    "    tr = soup.select('table#mytable.table.table-striped.table-responsive.table-condensed.no-space.table-bordered > tbody > tr')\n",
    "    # if(len(tr) == 0):  # 선수 데이터 row 수가 0인 경우, 30row씩 가져오면 추가하면 좋은데 아닌 경우는 필요 없음\n",
    "    #     break\n",
    "    for r in tr:\n",
    "        row = []\n",
    "        td = r.find_all('td')\n",
    "        for d in td:\n",
    "            row.append(d.text.strip())\n",
    "        if(len(row) > 0):\n",
    "            result.append(row)\n",
    "            \n",
    "print(result)\n",
    "\n",
    "data = pd.DataFrame(result)\n",
    "# 한글 column\n",
    "# data.columns = ['순서', '이름', '팀', 'WAR*', '경기 수', '타석', '타수', '득점', '안타', '2루타', '3루타', '홈런', '총 루타', '타점', '도루', '도루실패', '볼넷', '사구', '고의사구', '삼진', '병살', '희생타', '희생플라이', '타율', '출루율', '장타율', 'OPS', 'wOBA', 'wRC+', 'WAR*', 'WPA']\n",
    "# 영어 column\n",
    "data.columns = ['No', 'Name', 'Team', 'WAR*', 'G', '타석', '타수', '득점', '안타', '2루타', '3루타', '홈런', '총 루타', '타점', '도루', '도루실패', '볼넷', '사구', '고의사구', '삼진', '병살', '희생타', '희생플라이', '타율', '출루율', '장타율', 'OPS', 'wOBA', 'wRC+', 'WAR*', 'WPA']\n",
    "data.head()"
   ]
  }
 ],
 "metadata": {
  "kernelspec": {
   "display_name": "Python 3",
   "language": "python",
   "name": "python3"
  },
  "language_info": {
   "codemirror_mode": {
    "name": "ipython",
    "version": 3
   },
   "file_extension": ".py",
   "mimetype": "text/x-python",
   "name": "python",
   "nbconvert_exporter": "python",
   "pygments_lexer": "ipython3",
   "version": "3.7.6"
  }
 },
 "nbformat": 4,
 "nbformat_minor": 4
}
