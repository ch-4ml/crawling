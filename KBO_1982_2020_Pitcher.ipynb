{
 "cells": [
  {
   "cell_type": "markdown",
   "metadata": {},
   "source": [
    "# KBO 1982~2020 투수 기록 크롤링(statiz.co.kr)"
   ]
  },
  {
   "cell_type": "code",
   "execution_count": 1,
   "metadata": {},
   "outputs": [
    {
     "name": "stdout",
     "output_type": "stream",
     "text": [
      "1982년: 43\n",
      "1983년: 55\n",
      "1984년: 59\n",
      "1985년: 69\n",
      "1986년: 89\n",
      "1987년: 88\n",
      "1988년: 92\n",
      "1989년: 119\n",
      "1990년: 117\n",
      "1991년: 136\n",
      "1992년: 133\n",
      "1993년: 124\n",
      "1994년: 141\n",
      "1995년: 140\n",
      "1996년: 144\n",
      "1997년: 144\n",
      "1998년: 135\n",
      "1999년: 151\n",
      "2000년: 154\n",
      "2001년: 175\n",
      "2002년: 172\n",
      "2003년: 171\n",
      "2004년: 178\n",
      "2005년: 175\n",
      "2006년: 172\n",
      "2007년: 172\n",
      "2008년: 187\n",
      "2009년: 192\n",
      "2010년: 191\n",
      "2011년: 186\n",
      "2012년: 188\n",
      "2013년: 194\n",
      "2014년: 211\n",
      "2015년: 244\n",
      "2016년: 250\n",
      "2017년: 239\n",
      "2018년: 260\n",
      "2019년: 257\n",
      "2020년: 189\n"
     ]
    }
   ],
   "source": [
    "# 필요한 라이브러리 import\n",
    "from selenium import webdriver\n",
    "from bs4 import BeautifulSoup\n",
    "import pandas as pd\n",
    "\n",
    "# setup Driver | Chrome: 크롬 드라이버를 사용하는 driver 생성\n",
    "driver = webdriver.Chrome('./chromedriver')\n",
    "driver.implicitly_wait(10)\n",
    "\n",
    "result = []\n",
    "for i in range(1982, 2021):  # 시작년도, 종료년도 + 1\n",
    "    count = 0\n",
    "    for j in range(20):  # 19회 반복(*30 = 최대 570 Row 가져옴)   \n",
    "        # url 접근\n",
    "        driver.get('http://www.statiz.co.kr/stat.php?mid=stat&re=1&ys=' + str(i) + '&ye=' + str(i) + '&se=0&te=&tm=&ty=0&qu=auto&po=0&as=&ae=&hi=&un=&pl=&da=1&o1=WAR&o2=OutCount&de=1&lr=0&tr=&cv=&ml=1&sn=30&pa=' + str(j * 30) + '&si=&cn=')\n",
    "        html = driver.page_source\n",
    "        soup = BeautifulSoup(html, 'html.parser')\n",
    "        tr = soup.select('table#mytable.table.table-striped.table-responsive.table-condensed.no-space.table-bordered > tbody > tr')\n",
    "        if(len(tr) == 0):  # 선수 데이터 row 수가 0인 경우 조기 종료\n",
    "            break\n",
    "        # Row 수 계산\n",
    "        for r in tr:\n",
    "            row = []\n",
    "            td = r.find_all('td')\n",
    "            for d in td:\n",
    "                row.append(d.text.strip())\n",
    "            if(len(row) > 0):\n",
    "                count += 1  # Row 수 세기\n",
    "                result.append(row)\n",
    "    # Row 수 출력\n",
    "    print(i, '년: ', count, sep='')\n",
    "\n",
    "data = pd.DataFrame(result)"
   ]
  },
  {
   "cell_type": "code",
   "execution_count": 2,
   "metadata": {},
   "outputs": [],
   "source": [
    "# 중복된 column(WAR) 제거\n",
    "data = data.drop(data.columns[3], axis='columns')"
   ]
  },
  {
   "cell_type": "code",
   "execution_count": 3,
   "metadata": {},
   "outputs": [],
   "source": [
    "# 한글 column\n",
    "data.columns = ['순서', '이름', '팀', '출장', '완투', '완봉', '선발', '승리', '패전', '세이브', '홀드', '이닝', '실점', '자책', '상대 타자', '안타', '2루타', '3루타', '피홈런', '볼넷', '고의사구', '사구', '탈삼진', '보크', '폭투', 'ERA', 'FIP', 'WHIP', 'ERA+', 'FIP+', 'WAR', 'WPA']\n",
    "data.to_csv('KBO_1982_2020_Pitcher_KR.csv', encoding='cp949', index=False)\n",
    "# 영어 column\n",
    "data.columns = ['No', 'Name', 'Team', 'G', 'CG', 'ShO', 'GS', 'W', 'L', 'SV', 'HLD(HD)', 'IP', 'R', 'ER', 'TBF', 'H', '2B', '3B', 'HR', 'BB', 'IBB', 'HBP', 'SO', 'BK', 'WP', 'ERA', 'FIP', 'WHIP', 'ERA+', 'FIP+', 'WAR', 'WPA']\n",
    "data.to_csv('KBO_1982_2020_Pitcher_EN.csv', encoding='cp949', index=False)"
   ]
  },
  {
   "cell_type": "markdown",
   "metadata": {},
   "source": [
    "## 특정 해 데이터가 유실된 경우"
   ]
  },
  {
   "cell_type": "code",
   "execution_count": 82,
   "metadata": {},
   "outputs": [
    {
     "name": "stdout",
     "output_type": "stream",
     "text": [
      "2007년: 277\n"
     ]
    }
   ],
   "source": [
    "# 유실된 데이터 년도\n",
    "year = 2007\n",
    "\n",
    "restore_result = []\n",
    "restore_count = 0\n",
    "for j in range(20):  # 19회 반복(*30 = 최대 570 Row 가져옴)   \n",
    "    # url 접근\n",
    "    driver.get('http://www.statiz.co.kr/stat.php?mid=stat&re=1&ys=' + str(year) + '&ye=' + str(year) + '&se=0&te=&tm=&ty=0&qu=auto&po=0&as=&ae=&hi=&un=&pl=&da=1&o1=WAR&o2=OutCount&de=1&lr=0&tr=&cv=&ml=1&sn=30&pa=' + str(j * 30) + '&si=&cn=')\n",
    "    html = driver.page_source\n",
    "    soup = BeautifulSoup(html, 'html.parser')\n",
    "    tr = soup.select('table#mytable.table.table-striped.table-responsive.table-condensed.no-space.table-bordered > tbody > tr')\n",
    "    if(len(tr) == 0):  # 선수 데이터 row 수가 0인 경우 조기 종료\n",
    "        break\n",
    "    # Row 수 계산\n",
    "    for r in tr:\n",
    "        row = []\n",
    "        td = r.find_all('td')\n",
    "        for d in td:\n",
    "            row.append(d.text.strip())\n",
    "        if(len(row) > 0):\n",
    "            restore_count += 1  # Row 수 세기\n",
    "            restore_result.append(row)\n",
    "\n",
    "# Row 수 출력\n",
    "print(year, '년: ', restore_count, sep='')\n",
    "\n",
    "restore_data = pd.DataFrame(restore_result)"
   ]
  },
  {
   "cell_type": "code",
   "execution_count": 83,
   "metadata": {},
   "outputs": [],
   "source": [
    "# 중복된 column(WAR) 제거\n",
    "restore_data = restore_data.drop(restore_data.columns[3], axis='columns')"
   ]
  },
  {
   "cell_type": "code",
   "execution_count": 85,
   "metadata": {},
   "outputs": [],
   "source": [
    "# 한글 column\n",
    "restore_data.columns = ['순서', '이름', '팀', '출장', '완투', '완봉', '선발', '승리', '패전', '세이브', '홀드', '이닝', '실점', '자책', '상대 타자', '안타', '2루타', '3루타', '피홈런', '볼넷', '고의사구', '사구', '탈삼진', '보크', '폭투', 'ERA', 'FIP', 'WHIP', 'ERA+', 'FIP+', 'WAR', 'WPA']\n",
    "restore_data.to_csv('KBO_' + str(year) + '_Pitcher_KR.csv', encoding='cp949', index=False)\n",
    "# 영어 column\n",
    "restore_data.columns = ['No', 'Name', 'Team', 'G', 'CG', 'ShO', 'GS', 'W', 'L', 'SV', 'HLD(HD)', 'IP', 'R', 'ER', 'TBF', 'H', '2B', '3B', 'HR', 'BB', 'IBB', 'HBP', 'SO', 'BK', 'WP', 'ERA', 'FIP', 'WHIP', 'ERA+', 'FIP+', 'WAR', 'WPA']\n",
    "restore_data.to_csv('KBO_' + str(year) + '_Pitcher_EN.csv', encoding='cp949', index=False)"
   ]
  }
 ],
 "metadata": {
  "kernelspec": {
   "display_name": "Python 3",
   "language": "python",
   "name": "python3"
  },
  "language_info": {
   "codemirror_mode": {
    "name": "ipython",
    "version": 3
   },
   "file_extension": ".py",
   "mimetype": "text/x-python",
   "name": "python",
   "nbconvert_exporter": "python",
   "pygments_lexer": "ipython3",
   "version": "3.7.6"
  }
 },
 "nbformat": 4,
 "nbformat_minor": 4
}
