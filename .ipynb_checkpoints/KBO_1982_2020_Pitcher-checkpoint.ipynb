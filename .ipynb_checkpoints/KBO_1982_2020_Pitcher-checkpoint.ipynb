{
 "cells": [
  {
   "cell_type": "markdown",
   "metadata": {},
   "source": [
    "# KBO 1982~2020 투수 기록 크롤링(statiz.co.kr)"
   ]
  },
  {
   "cell_type": "code",
   "execution_count": 74,
   "metadata": {},
   "outputs": [
    {
     "name": "stdout",
     "output_type": "stream",
     "text": [
      "1982년: 108\n",
      "1983년: 117\n",
      "1984년: 133\n",
      "1985년: 144\n",
      "1986년: 172\n",
      "1987년: 167\n",
      "1988년: 120\n",
      "1989년: 190\n",
      "1990년: 198\n",
      "1991년: 235\n",
      "1992년: 235\n",
      "1993년: 217\n",
      "1994년: 233\n",
      "1995년: 227\n",
      "1996년: 239\n",
      "1997년: 232\n",
      "1998년: 202\n",
      "1999년: 198\n",
      "2000년: 202\n",
      "2001년: 214\n",
      "2002년: 215\n",
      "2003년: 216\n",
      "2004년: 224\n",
      "2005년: 206\n",
      "2006년: 193\n",
      "2007년: 0\n",
      "2008년: 278\n",
      "2009년: 278\n",
      "2010년: 269\n",
      "2011년: 263\n",
      "2012년: 284\n",
      "2013년: 257\n",
      "2014년: 306\n",
      "2015년: 381\n",
      "2016년: 378\n",
      "2017년: 360\n",
      "2018년: 331\n",
      "2019년: 357\n",
      "2020년: 231\n",
      "RangeIndex(start=0, stop=31, step=1)\n"
     ]
    },
    {
     "ename": "ValueError",
     "evalue": "Length mismatch: Expected axis has 31 elements, new values have 30 elements",
     "output_type": "error",
     "traceback": [
      "\u001b[1;31m---------------------------------------------------------------------------\u001b[0m",
      "\u001b[1;31mValueError\u001b[0m                                Traceback (most recent call last)",
      "\u001b[1;32m<ipython-input-74-e50df14e0ac3>\u001b[0m in \u001b[0;36m<module>\u001b[1;34m\u001b[0m\n\u001b[0;32m     37\u001b[0m \u001b[1;33m\u001b[0m\u001b[0m\n\u001b[0;32m     38\u001b[0m \u001b[1;31m# 한글 column\u001b[0m\u001b[1;33m\u001b[0m\u001b[1;33m\u001b[0m\u001b[1;33m\u001b[0m\u001b[0m\n\u001b[1;32m---> 39\u001b[1;33m \u001b[0mdata\u001b[0m\u001b[1;33m.\u001b[0m\u001b[0mcolumns\u001b[0m \u001b[1;33m=\u001b[0m \u001b[1;33m[\u001b[0m\u001b[1;34m'순서'\u001b[0m\u001b[1;33m,\u001b[0m \u001b[1;34m'이름'\u001b[0m\u001b[1;33m,\u001b[0m \u001b[1;34m'팀'\u001b[0m\u001b[1;33m,\u001b[0m \u001b[1;34m'경기 수'\u001b[0m\u001b[1;33m,\u001b[0m \u001b[1;34m'타석'\u001b[0m\u001b[1;33m,\u001b[0m \u001b[1;34m'타수'\u001b[0m\u001b[1;33m,\u001b[0m \u001b[1;34m'득점'\u001b[0m\u001b[1;33m,\u001b[0m \u001b[1;34m'안타'\u001b[0m\u001b[1;33m,\u001b[0m \u001b[1;34m'2루타'\u001b[0m\u001b[1;33m,\u001b[0m \u001b[1;34m'3루타'\u001b[0m\u001b[1;33m,\u001b[0m \u001b[1;34m'홈런'\u001b[0m\u001b[1;33m,\u001b[0m \u001b[1;34m'총 루타'\u001b[0m\u001b[1;33m,\u001b[0m \u001b[1;34m'타점'\u001b[0m\u001b[1;33m,\u001b[0m \u001b[1;34m'도루'\u001b[0m\u001b[1;33m,\u001b[0m \u001b[1;34m'도루실패'\u001b[0m\u001b[1;33m,\u001b[0m \u001b[1;34m'볼넷'\u001b[0m\u001b[1;33m,\u001b[0m \u001b[1;34m'사구'\u001b[0m\u001b[1;33m,\u001b[0m \u001b[1;34m'고의사구'\u001b[0m\u001b[1;33m,\u001b[0m \u001b[1;34m'삼진'\u001b[0m\u001b[1;33m,\u001b[0m \u001b[1;34m'병살'\u001b[0m\u001b[1;33m,\u001b[0m \u001b[1;34m'희생타'\u001b[0m\u001b[1;33m,\u001b[0m \u001b[1;34m'희생플라이'\u001b[0m\u001b[1;33m,\u001b[0m \u001b[1;34m'타율'\u001b[0m\u001b[1;33m,\u001b[0m \u001b[1;34m'출루율'\u001b[0m\u001b[1;33m,\u001b[0m \u001b[1;34m'장타율'\u001b[0m\u001b[1;33m,\u001b[0m \u001b[1;34m'OPS'\u001b[0m\u001b[1;33m,\u001b[0m \u001b[1;34m'wOBA'\u001b[0m\u001b[1;33m,\u001b[0m \u001b[1;34m'wRC+'\u001b[0m\u001b[1;33m,\u001b[0m \u001b[1;34m'WAR'\u001b[0m\u001b[1;33m,\u001b[0m \u001b[1;34m'WPA'\u001b[0m\u001b[1;33m]\u001b[0m\u001b[1;33m\u001b[0m\u001b[1;33m\u001b[0m\u001b[0m\n\u001b[0m\u001b[0;32m     40\u001b[0m \u001b[0mdata\u001b[0m\u001b[1;33m.\u001b[0m\u001b[0mto_csv\u001b[0m\u001b[1;33m(\u001b[0m\u001b[1;34m'KBO_1982_2020_Batter_KR.csv'\u001b[0m\u001b[1;33m,\u001b[0m \u001b[0mencoding\u001b[0m\u001b[1;33m=\u001b[0m\u001b[1;34m'cp949'\u001b[0m\u001b[1;33m,\u001b[0m \u001b[0mindex\u001b[0m\u001b[1;33m=\u001b[0m\u001b[1;32mFalse\u001b[0m\u001b[1;33m)\u001b[0m\u001b[1;33m\u001b[0m\u001b[1;33m\u001b[0m\u001b[0m\n\u001b[0;32m     41\u001b[0m \u001b[1;31m# 영어 column\u001b[0m\u001b[1;33m\u001b[0m\u001b[1;33m\u001b[0m\u001b[1;33m\u001b[0m\u001b[0m\n",
      "\u001b[1;32m~\\anaconda3\\lib\\site-packages\\pandas\\core\\generic.py\u001b[0m in \u001b[0;36m__setattr__\u001b[1;34m(self, name, value)\u001b[0m\n\u001b[0;32m   5285\u001b[0m         \u001b[1;32mtry\u001b[0m\u001b[1;33m:\u001b[0m\u001b[1;33m\u001b[0m\u001b[1;33m\u001b[0m\u001b[0m\n\u001b[0;32m   5286\u001b[0m             \u001b[0mobject\u001b[0m\u001b[1;33m.\u001b[0m\u001b[0m__getattribute__\u001b[0m\u001b[1;33m(\u001b[0m\u001b[0mself\u001b[0m\u001b[1;33m,\u001b[0m \u001b[0mname\u001b[0m\u001b[1;33m)\u001b[0m\u001b[1;33m\u001b[0m\u001b[1;33m\u001b[0m\u001b[0m\n\u001b[1;32m-> 5287\u001b[1;33m             \u001b[1;32mreturn\u001b[0m \u001b[0mobject\u001b[0m\u001b[1;33m.\u001b[0m\u001b[0m__setattr__\u001b[0m\u001b[1;33m(\u001b[0m\u001b[0mself\u001b[0m\u001b[1;33m,\u001b[0m \u001b[0mname\u001b[0m\u001b[1;33m,\u001b[0m \u001b[0mvalue\u001b[0m\u001b[1;33m)\u001b[0m\u001b[1;33m\u001b[0m\u001b[1;33m\u001b[0m\u001b[0m\n\u001b[0m\u001b[0;32m   5288\u001b[0m         \u001b[1;32mexcept\u001b[0m \u001b[0mAttributeError\u001b[0m\u001b[1;33m:\u001b[0m\u001b[1;33m\u001b[0m\u001b[1;33m\u001b[0m\u001b[0m\n\u001b[0;32m   5289\u001b[0m             \u001b[1;32mpass\u001b[0m\u001b[1;33m\u001b[0m\u001b[1;33m\u001b[0m\u001b[0m\n",
      "\u001b[1;32mpandas\\_libs\\properties.pyx\u001b[0m in \u001b[0;36mpandas._libs.properties.AxisProperty.__set__\u001b[1;34m()\u001b[0m\n",
      "\u001b[1;32m~\\anaconda3\\lib\\site-packages\\pandas\\core\\generic.py\u001b[0m in \u001b[0;36m_set_axis\u001b[1;34m(self, axis, labels)\u001b[0m\n\u001b[0;32m    659\u001b[0m \u001b[1;33m\u001b[0m\u001b[0m\n\u001b[0;32m    660\u001b[0m     \u001b[1;32mdef\u001b[0m \u001b[0m_set_axis\u001b[0m\u001b[1;33m(\u001b[0m\u001b[0mself\u001b[0m\u001b[1;33m,\u001b[0m \u001b[0maxis\u001b[0m\u001b[1;33m,\u001b[0m \u001b[0mlabels\u001b[0m\u001b[1;33m)\u001b[0m \u001b[1;33m->\u001b[0m \u001b[1;32mNone\u001b[0m\u001b[1;33m:\u001b[0m\u001b[1;33m\u001b[0m\u001b[1;33m\u001b[0m\u001b[0m\n\u001b[1;32m--> 661\u001b[1;33m         \u001b[0mself\u001b[0m\u001b[1;33m.\u001b[0m\u001b[0m_data\u001b[0m\u001b[1;33m.\u001b[0m\u001b[0mset_axis\u001b[0m\u001b[1;33m(\u001b[0m\u001b[0maxis\u001b[0m\u001b[1;33m,\u001b[0m \u001b[0mlabels\u001b[0m\u001b[1;33m)\u001b[0m\u001b[1;33m\u001b[0m\u001b[1;33m\u001b[0m\u001b[0m\n\u001b[0m\u001b[0;32m    662\u001b[0m         \u001b[0mself\u001b[0m\u001b[1;33m.\u001b[0m\u001b[0m_clear_item_cache\u001b[0m\u001b[1;33m(\u001b[0m\u001b[1;33m)\u001b[0m\u001b[1;33m\u001b[0m\u001b[1;33m\u001b[0m\u001b[0m\n\u001b[0;32m    663\u001b[0m \u001b[1;33m\u001b[0m\u001b[0m\n",
      "\u001b[1;32m~\\anaconda3\\lib\\site-packages\\pandas\\core\\internals\\managers.py\u001b[0m in \u001b[0;36mset_axis\u001b[1;34m(self, axis, new_labels)\u001b[0m\n\u001b[0;32m    176\u001b[0m         \u001b[1;32mif\u001b[0m \u001b[0mnew_len\u001b[0m \u001b[1;33m!=\u001b[0m \u001b[0mold_len\u001b[0m\u001b[1;33m:\u001b[0m\u001b[1;33m\u001b[0m\u001b[1;33m\u001b[0m\u001b[0m\n\u001b[0;32m    177\u001b[0m             raise ValueError(\n\u001b[1;32m--> 178\u001b[1;33m                 \u001b[1;34mf\"Length mismatch: Expected axis has {old_len} elements, new \"\u001b[0m\u001b[1;33m\u001b[0m\u001b[1;33m\u001b[0m\u001b[0m\n\u001b[0m\u001b[0;32m    179\u001b[0m                 \u001b[1;34mf\"values have {new_len} elements\"\u001b[0m\u001b[1;33m\u001b[0m\u001b[1;33m\u001b[0m\u001b[0m\n\u001b[0;32m    180\u001b[0m             )\n",
      "\u001b[1;31mValueError\u001b[0m: Length mismatch: Expected axis has 31 elements, new values have 30 elements"
     ]
    }
   ],
   "source": [
    "# 필요한 라이브러리 import\n",
    "from selenium import webdriver\n",
    "from bs4 import BeautifulSoup\n",
    "import pandas as pd\n",
    "\n",
    "# setup Driver | Chrome: 크롬 드라이버를 사용하는 driver 생성\n",
    "driver = webdriver.Chrome('./chromedriver')\n",
    "driver.implicitly_wait(10)\n",
    "\n",
    "result = []\n",
    "for i in range(1982, 2021):  # 시작년도, 종료년도 + 1\n",
    "    count = 0\n",
    "    for j in range(20):  # 19회 반복(*30 = 최대 570 Row 가져옴)   \n",
    "        # url 접근\n",
    "        driver.get('http://www.statiz.co.kr/stat.php?mid=stat&re=1&ys=' + str(i) + '&ye=' + str(i) + '&se=0&te=&tm=&ty=0&qu=auto&po=0&as=&ae=&hi=&un=&pl=&da=1&o1=WAR&o2=OutCount&de=1&lr=0&tr=&cv=&ml=1&sn=30&pa=' + str(j * 30) + '&si=&cn=')\n",
    "        html = driver.page_source\n",
    "        soup = BeautifulSoup(html, 'html.parser')\n",
    "        tr = soup.select('table#mytable.table.table-striped.table-responsive.table-condensed.no-space.table-bordered > tbody > tr')\n",
    "        if(len(tr) == 0):  # 선수 데이터 row 수가 0인 경우 조기 종료\n",
    "            break\n",
    "        # Row 수 계산\n",
    "        for r in tr:\n",
    "            row = []\n",
    "            td = r.find_all('td')\n",
    "            for d in td:\n",
    "                row.append(d.text.strip())\n",
    "            if(len(row) > 0):\n",
    "                count += 1  # Row 수 세기\n",
    "                result.append(row)\n",
    "    # Row 수 출력\n",
    "    print(i, '년: ', count, sep='')\n",
    "\n",
    "data = pd.DataFrame(result)"
   ]
  },
  {
   "cell_type": "code",
   "execution_count": 80,
   "metadata": {},
   "outputs": [],
   "source": [
    "# 중복된 column(WAR) 제거\n",
    "data = data.drop(data.columns[3], axis='columns')"
   ]
  },
  {
   "cell_type": "code",
   "execution_count": 81,
   "metadata": {},
   "outputs": [],
   "source": [
    "# 한글 column\n",
    "data.columns = ['순서', '이름', '팀', '출장', '완투', '완봉', '선발', '승리', '패전', '세이브', '홀드', '이닝', '실점', '자책', '상대 타자', '안타', '2루타', '3루타', '피홈런', '볼넷', '고의사구', '사구', '탈삼진', '보크', '폭투', 'ERA', 'FIP', 'WHIP', 'ERA+', 'FIP+', 'WAR', 'WPA']\n",
    "data.to_csv('KBO_1982_2020_Pitcher_KR.csv', encoding='cp949', index=False)\n",
    "# 영어 column\n",
    "data.columns = ['No', 'Name', 'Team', 'G', 'CG', 'ShO', 'GS', 'W', 'L', 'SV', 'HLD(HD)', 'IP', 'R', 'ER', 'TBF', 'H', '2B', '3B', 'HR', 'BB', 'IBB', 'HBP', 'SO', 'BK', 'WP', 'ERA', 'FIP', 'WHIP', 'ERA+', 'FIP+', 'WAR', 'WPA']\n",
    "data.to_csv('KBO_1982_2020_Pitcher_EN.csv', encoding='cp949', index=False)"
   ]
  },
  {
   "cell_type": "markdown",
   "metadata": {},
   "source": [
    "## 특정 해 데이터가 유실된 경우"
   ]
  },
  {
   "cell_type": "code",
   "execution_count": 82,
   "metadata": {},
   "outputs": [
    {
     "name": "stdout",
     "output_type": "stream",
     "text": [
      "2007년: 277\n"
     ]
    }
   ],
   "source": [
    "# 유실된 데이터 년도\n",
    "year = 2007\n",
    "\n",
    "restore_result = []\n",
    "restore_count = 0\n",
    "for j in range(20):  # 19회 반복(*30 = 최대 570 Row 가져옴)   \n",
    "    # url 접근\n",
    "    driver.get('http://www.statiz.co.kr/stat.php?mid=stat&re=1&ys=2020&ye=2020&se=0&te=&tm=&ty=0&qu=auto&po=0&as=&ae=&hi=&un=&pl=&da=1&o1=WAR&o2=OutCount&de=1&lr=0&tr=&cv=&ml=1&sn=30&pa=0&si=&cn=')\n",
    "    driver.get('http://www.statiz.co.kr/stat.php?mid=stat&re=0&ys=' + str(year) + '&ye=' + str(year) + '&se=0&te=&tm=&ty=0&qu=auto&po=0&as=&ae=&hi=&un=&pl=&da=1&o1=WAR_ALL_ADJ&o2=TPA&de=1&lr=0&tr=&cv=&ml=1&sn=30&pa=' + str(j * 30) + '&si=&cn=')  # sn: data row 수, pn: 이전 페이지의 마지막 row 번호\n",
    "    html = driver.page_source\n",
    "    soup = BeautifulSoup(html, 'html.parser')\n",
    "    tr = soup.select('table#mytable.table.table-striped.table-responsive.table-condensed.no-space.table-bordered > tbody > tr')\n",
    "    if(len(tr) == 0):  # 선수 데이터 row 수가 0인 경우 조기 종료\n",
    "        break\n",
    "    # Row 수 계산\n",
    "    for r in tr:\n",
    "        row = []\n",
    "        td = r.find_all('td')\n",
    "        for d in td:\n",
    "            row.append(d.text.strip())\n",
    "        if(len(row) > 0):\n",
    "            restore_count += 1  # Row 수 세기\n",
    "            restore_result.append(row)\n",
    "\n",
    "# Row 수 출력\n",
    "print(year, '년: ', restore_count, sep='')\n",
    "\n",
    "restore_data = pd.DataFrame(restore_result)"
   ]
  },
  {
   "cell_type": "code",
   "execution_count": 83,
   "metadata": {},
   "outputs": [],
   "source": [
    "# 중복된 column(WAR) 제거\n",
    "restore_data = restore_data.drop(restore_data.columns[3], axis='columns')"
   ]
  },
  {
   "cell_type": "code",
   "execution_count": 85,
   "metadata": {},
   "outputs": [],
   "source": [
    "# 한글 column\n",
    "restore_data.columns = ['순서', '이름', '팀', '출장', '완투', '완봉', '선발', '승리', '패전', '세이브', '홀드', '이닝', '실점', '자책', '상대 타자', '안타', '2루타', '3루타', '피홈런', '볼넷', '고의사구', '사구', '탈삼진', '보크', '폭투', 'ERA', 'FIP', 'WHIP', 'ERA+', 'FIP+', 'WAR', 'WPA']\n",
    "restore_data.to_csv('KBO_' + str(year) + '_Pitcher_KR.csv', encoding='cp949', index=False)\n",
    "# 영어 column\n",
    "restore_data.columns = ['No', 'Name', 'Team', 'G', 'CG', 'ShO', 'GS', 'W', 'L', 'SV', 'HLD(HD)', 'IP', 'R', 'ER', 'TBF', 'H', '2B', '3B', 'HR', 'BB', 'IBB', 'HBP', 'SO', 'BK', 'WP', 'ERA', 'FIP', 'WHIP', 'ERA+', 'FIP+', 'WAR', 'WPA']\n",
    "restore_data.to_csv('KBO_' + str(year) + '_Pitcher_EN.csv', encoding='cp949', index=False)"
   ]
  }
 ],
 "metadata": {
  "kernelspec": {
   "display_name": "Python 3",
   "language": "python",
   "name": "python3"
  },
  "language_info": {
   "codemirror_mode": {
    "name": "ipython",
    "version": 3
   },
   "file_extension": ".py",
   "mimetype": "text/x-python",
   "name": "python",
   "nbconvert_exporter": "python",
   "pygments_lexer": "ipython3",
   "version": "3.7.6"
  }
 },
 "nbformat": 4,
 "nbformat_minor": 4
}
